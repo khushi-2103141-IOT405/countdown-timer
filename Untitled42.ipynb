{
  "nbformat": 4,
  "nbformat_minor": 0,
  "metadata": {
    "colab": {
      "provenance": [],
      "authorship_tag": "ABX9TyPUjgraQWPNX/QmbPlUpqsj",
      "include_colab_link": true
    },
    "kernelspec": {
      "name": "python3",
      "display_name": "Python 3"
    },
    "language_info": {
      "name": "python"
    }
  },
  "cells": [
    {
      "cell_type": "markdown",
      "metadata": {
        "id": "view-in-github",
        "colab_type": "text"
      },
      "source": [
        "<a href=\"https://colab.research.google.com/github/khushi-2103141-IOT405/countdown-timer/blob/main/Untitled42.ipynb\" target=\"_parent\"><img src=\"https://colab.research.google.com/assets/colab-badge.svg\" alt=\"Open In Colab\"/></a>"
      ]
    },
    {
      "cell_type": "code",
      "execution_count": null,
      "metadata": {
        "id": "jheyyKVHQqAs",
        "outputId": "9a2d9603-8826-472f-cb2a-0698faa886cf",
        "colab": {
          "base_uri": "https://localhost:8080/",
          "height": 393
        }
      },
      "outputs": [
        {
          "output_type": "error",
          "ename": "FileNotFoundError",
          "evalue": "ignored",
          "traceback": [
            "\u001b[0;31m---------------------------------------------------------------------------\u001b[0m",
            "\u001b[0;31mFileNotFoundError\u001b[0m                         Traceback (most recent call last)",
            "\u001b[0;32m<ipython-input-1-9fd3bab59224>\u001b[0m in \u001b[0;36m<cell line: 41>\u001b[0;34m()\u001b[0m\n\u001b[1;32m     39\u001b[0m \u001b[0;34m\u001b[0m\u001b[0m\n\u001b[1;32m     40\u001b[0m \u001b[0;31m# Encrypt a file\u001b[0m\u001b[0;34m\u001b[0m\u001b[0;34m\u001b[0m\u001b[0m\n\u001b[0;32m---> 41\u001b[0;31m \u001b[0mencrypt_file\u001b[0m\u001b[0;34m(\u001b[0m\u001b[0;34m'example.txt'\u001b[0m\u001b[0;34m,\u001b[0m \u001b[0mkey\u001b[0m\u001b[0;34m)\u001b[0m\u001b[0;34m\u001b[0m\u001b[0;34m\u001b[0m\u001b[0m\n\u001b[0m\u001b[1;32m     42\u001b[0m \u001b[0;34m\u001b[0m\u001b[0m\n\u001b[1;32m     43\u001b[0m \u001b[0;31m# Decrypt the file\u001b[0m\u001b[0;34m\u001b[0m\u001b[0;34m\u001b[0m\u001b[0m\n",
            "\u001b[0;32m<ipython-input-1-9fd3bab59224>\u001b[0m in \u001b[0;36mencrypt_file\u001b[0;34m(file_path, key)\u001b[0m\n\u001b[1;32m     14\u001b[0m     \u001b[0mcipher\u001b[0m \u001b[0;34m=\u001b[0m \u001b[0mFernet\u001b[0m\u001b[0;34m(\u001b[0m\u001b[0mkey\u001b[0m\u001b[0;34m)\u001b[0m\u001b[0;34m\u001b[0m\u001b[0;34m\u001b[0m\u001b[0m\n\u001b[1;32m     15\u001b[0m \u001b[0;34m\u001b[0m\u001b[0m\n\u001b[0;32m---> 16\u001b[0;31m     \u001b[0;32mwith\u001b[0m \u001b[0mopen\u001b[0m\u001b[0;34m(\u001b[0m\u001b[0mfile_path\u001b[0m\u001b[0;34m,\u001b[0m \u001b[0;34m'rb'\u001b[0m\u001b[0;34m)\u001b[0m \u001b[0;32mas\u001b[0m \u001b[0mfile\u001b[0m\u001b[0;34m:\u001b[0m\u001b[0;34m\u001b[0m\u001b[0;34m\u001b[0m\u001b[0m\n\u001b[0m\u001b[1;32m     17\u001b[0m         \u001b[0mfile_data\u001b[0m \u001b[0;34m=\u001b[0m \u001b[0mfile\u001b[0m\u001b[0;34m.\u001b[0m\u001b[0mread\u001b[0m\u001b[0;34m(\u001b[0m\u001b[0;34m)\u001b[0m\u001b[0;34m\u001b[0m\u001b[0;34m\u001b[0m\u001b[0m\n\u001b[1;32m     18\u001b[0m \u001b[0;34m\u001b[0m\u001b[0m\n",
            "\u001b[0;31mFileNotFoundError\u001b[0m: [Errno 2] No such file or directory: 'example.txt'"
          ]
        }
      ],
      "source": [
        "from cryptography.fernet import Fernet\n",
        "\n",
        "def generate_key():\n",
        "    return Fernet.generate_key()\n",
        "\n",
        "def save_key(key, filename):\n",
        "    with open(filename, 'wb') as key_file:\n",
        "        key_file.write(key)\n",
        "\n",
        "def load_key(filename):\n",
        "    return open(filename, 'rb').read()\n",
        "\n",
        "def encrypt_file(file_path, key):\n",
        "    cipher = Fernet(key)\n",
        "\n",
        "    with open(file_path, 'rb') as file:\n",
        "        file_data = file.read()\n",
        "\n",
        "    encrypted_data = cipher.encrypt(file_data)\n",
        "\n",
        "    with open(file_path + '.encrypted', 'wb') as encrypted_file:\n",
        "        encrypted_file.write(encrypted_data)\n",
        "\n",
        "def decrypt_file(file_path, key):\n",
        "    cipher = Fernet(key)\n",
        "\n",
        "    with open(file_path, 'rb') as encrypted_file:\n",
        "        encrypted_data = encrypted_file.read()\n",
        "\n",
        "    decrypted_data = cipher.decrypt(encrypted_data)\n",
        "\n",
        "    with open(file_path[:-10], 'wb') as decrypted_file:\n",
        "        decrypted_file.write(decrypted_data)\n",
        "\n",
        "# Example usage:\n",
        "# Generate key and save it to a file\n",
        "key = generate_key()\n",
        "save_key(key, 'secret.key')\n",
        "\n",
        "# Encrypt a file\n",
        "encrypt_file('example.txt', key)\n",
        "\n",
        "# Decrypt the file\n",
        "decrypt_file('example.txt.encrypted', key)\n"
      ]
    }
  ]
}